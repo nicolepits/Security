{
  "nbformat": 4,
  "nbformat_minor": 0,
  "metadata": {
    "colab": {
      "name": "Project_1_security",
      "provenance": [],
      "collapsed_sections": [],
      "authorship_tag": "ABX9TyOygqtUn1AlZOmRijU1ShkB",
      "include_colab_link": true
    },
    "kernelspec": {
      "name": "python3",
      "display_name": "Python 3"
    }
  },
  "cells": [
    {
      "cell_type": "markdown",
      "metadata": {
        "id": "view-in-github",
        "colab_type": "text"
      },
      "source": [
        "<a href=\"https://colab.research.google.com/github/potteracious/Security/blob/main/Project_1_security.ipynb\" target=\"_parent\"><img src=\"https://colab.research.google.com/assets/colab-badge.svg\" alt=\"Open In Colab\"/></a>"
      ]
    },
    {
      "cell_type": "markdown",
      "metadata": {
        "id": "DvV3TNoTs-Fg"
      },
      "source": [
        "# New Section"
      ]
    },
    {
      "cell_type": "code",
      "metadata": {
        "colab": {
          "base_uri": "https://localhost:8080/"
        },
        "id": "FUHKcHQ7s_wr",
        "outputId": "531de9d9-7d47-4ab4-ff34-d87d5b79eab4"
      },
      "source": [
        "import hashlib, binascii, os\r\n",
        "\r\n",
        "def hash_password(password):\r\n",
        "    \"\"\"Hash a password for storing.\"\"\"\r\n",
        "    salt = hashlib.sha256(os.urandom(60)).hexdigest().encode('ascii')\r\n",
        "    pwdhash = hashlib.pbkdf2_hmac('sha512', password.encode('utf-8'), \r\n",
        "                                salt, 100000)\r\n",
        "    pwdhash = binascii.hexlify(pwdhash)\r\n",
        "    return (salt + pwdhash).decode('ascii')\r\n",
        "\r\n",
        "f = open(\"password_hashes.txt\", \"a\")\r\n",
        "\r\n",
        "while True:\r\n",
        "  username = input(\"Enter username\\n\")\r\n",
        "  if not username:\r\n",
        "    f.close()\r\n",
        "    break\r\n",
        "  password = input(\"Enter password\\n\")\r\n",
        "\r\n",
        "  storedpassword = hash_password(password)\r\n",
        "  f.write(username)\r\n",
        "  f.write(\" \")\r\n",
        "  f.write(storedpassword)\r\n",
        "  f.write(\"\\n\")\r\n",
        "  print(\"Data written\\n\")\r\n"
      ],
      "execution_count": null,
      "outputs": [
        {
          "output_type": "stream",
          "text": [
            "Enter username\n",
            "user11\n",
            "Enter password\n",
            "123456\n",
            "Data written\n",
            "\n",
            "Enter username\n",
            "\n"
          ],
          "name": "stdout"
        }
      ]
    },
    {
      "cell_type": "code",
      "metadata": {
        "colab": {
          "base_uri": "https://localhost:8080/"
        },
        "id": "izwBkwnyDja_",
        "outputId": "3f6f4610-cbf1-4ae4-e090-0316625d6ad2"
      },
      "source": [
        "import hashlib, binascii, os\r\n",
        "\r\n",
        "\r\n",
        "def verify_password(stored_password, provided_password):\r\n",
        "    \"\"\"Verify a stored password against one provided by user\"\"\"\r\n",
        "    salt = stored_password[:64]\r\n",
        "    stored_password = stored_password[64:]\r\n",
        "    pwdhash = hashlib.pbkdf2_hmac('sha512', \r\n",
        "                                  provided_password.encode('utf-8'), \r\n",
        "                                  salt.encode('ascii'), \r\n",
        "                                  100000)\r\n",
        "    pwdhash = binascii.hexlify(pwdhash).decode('ascii')\r\n",
        "    return pwdhash == stored_password\r\n",
        "\r\n",
        "f = open(\"password_hashes.txt\", \"r\")\r\n",
        "\r\n",
        "for line in f.readlines(): # Read the lines\r\n",
        "  g = open(\"popular_passwords.txt\", \"r\")\r\n",
        "  for lines in g.readlines():\r\n",
        "          login_info = line.split() # Split on the space, and store the results in a list of two strings\r\n",
        "          popular = lines.split(\"\\n\")\r\n",
        "          #print(login_info[1])\r\n",
        "          #print(lines)\r\n",
        "          result = verify_password(login_info[1],popular[0])\r\n",
        "          if result:\r\n",
        "              print(\"Found password.\\n\")\r\n",
        "              print(\"Username: \")\r\n",
        "              print(login_info[0])\r\n",
        "              print(\"\\nPassword: \")\r\n",
        "              print(lines)\r\n",
        "              print(\"\\n\")\r\n",
        "          \r\n",
        "  g.close()\r\n",
        "f.close()\r\n",
        "\r\n",
        "    \r\n",
        "\r\n"
      ],
      "execution_count": null,
      "outputs": [
        {
          "output_type": "stream",
          "text": [
            "Found password.\n",
            "\n",
            "Username: \n",
            "user100\n",
            "\n",
            "Password: \n",
            "123456\n",
            "\n",
            "\n",
            "\n",
            "Found password.\n",
            "\n",
            "Username: \n",
            "user555\n",
            "\n",
            "Password: \n",
            "senha\n",
            "\n",
            "\n",
            "\n",
            "Found password.\n",
            "\n",
            "Username: \n",
            "user11\n",
            "\n",
            "Password: \n",
            "123456\n",
            "\n",
            "\n",
            "\n"
          ],
          "name": "stdout"
        }
      ]
    }
  ]
}